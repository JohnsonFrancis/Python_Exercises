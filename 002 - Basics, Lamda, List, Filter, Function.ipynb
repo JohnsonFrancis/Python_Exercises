{
 "cells": [
  {
   "cell_type": "markdown",
   "metadata": {},
   "source": [
    "# Question 1: Given a two integer numbers return their product and  if the product is greater than 1000, then return their sum"
   ]
  },
  {
   "cell_type": "code",
   "execution_count": 1,
   "metadata": {},
   "outputs": [
    {
     "name": "stdout",
     "output_type": "stream",
     "text": [
      "Enter 1st number: 10\n",
      "Enter 2nd number: 30\n"
     ]
    },
    {
     "data": {
      "text/plain": [
       "300"
      ]
     },
     "execution_count": 1,
     "metadata": {},
     "output_type": "execute_result"
    }
   ],
   "source": [
    "(lambda a,b : a+b if a*b > 1000 else a*b)(int(input(\"Enter 1st number: \")),int(input(\"Enter 2nd number: \")))"
   ]
  },
  {
   "cell_type": "code",
   "execution_count": 2,
   "metadata": {},
   "outputs": [
    {
     "name": "stdout",
     "output_type": "stream",
     "text": [
      "Enter 1st number: 10\n",
      "Enter 2nd number: 300\n"
     ]
    },
    {
     "data": {
      "text/plain": [
       "310"
      ]
     },
     "execution_count": 2,
     "metadata": {},
     "output_type": "execute_result"
    }
   ],
   "source": [
    "(lambda a,b : a+b if a*b > 1000 else a*b)(int(input(\"Enter 1st number: \")),int(input(\"Enter 2nd number: \")))\n"
   ]
  },
  {
   "cell_type": "markdown",
   "metadata": {},
   "source": [
    "# Question 2: Given a range of first 10 numbers, Iterate from start number to the end number and print the sum of the current number and previous number"
   ]
  },
  {
   "cell_type": "code",
   "execution_count": 3,
   "metadata": {},
   "outputs": [
    {
     "name": "stdout",
     "output_type": "stream",
     "text": [
      "1\n",
      "3\n",
      "5\n",
      "7\n",
      "9\n",
      "11\n",
      "13\n",
      "15\n",
      "17\n"
     ]
    }
   ],
   "source": [
    "print('\\n'.join([str([x for x in range(10)][i+1] + [x for x in range(10)][i]) for i in range(10-1)]))"
   ]
  },
  {
   "cell_type": "markdown",
   "metadata": {},
   "source": [
    "# Question 3: Given a string, display only those characters which are present at an even index number."
   ]
  },
  {
   "cell_type": "code",
   "execution_count": 4,
   "metadata": {},
   "outputs": [
    {
     "name": "stdout",
     "output_type": "stream",
     "text": [
      "Enter the string: Johnson Francis\n",
      "Even index chars :  hsnFacs\n"
     ]
    }
   ],
   "source": [
    "print(\"Even index chars : \", input('Enter the string: ')[2::2])"
   ]
  },
  {
   "cell_type": "markdown",
   "metadata": {},
   "source": [
    "# Question 4: Given a string and an integer number n, remove characters from a string starting from zero up to n and return a new string"
   ]
  },
  {
   "cell_type": "code",
   "execution_count": 5,
   "metadata": {},
   "outputs": [
    {
     "name": "stdout",
     "output_type": "stream",
     "text": [
      "Enter the string: Johnson Francis\n",
      "Enter n: 5\n",
      "Even index chars :  Johns\n"
     ]
    }
   ],
   "source": [
    "print(\"Even index chars : \", input('Enter the string: ')[:int(input('Enter n: '))])"
   ]
  },
  {
   "cell_type": "markdown",
   "metadata": {},
   "source": [
    "# Question 5: Given a list of numbers, return True if first and last number of a list is same"
   ]
  },
  {
   "cell_type": "code",
   "execution_count": 6,
   "metadata": {},
   "outputs": [
    {
     "name": "stdout",
     "output_type": "stream",
     "text": [
      "Enter list of numbers delimited by comma: 1,24,5,6,7,006,05,60,0001\n",
      "First & Last number matching ?  True\n"
     ]
    }
   ],
   "source": [
    "lst=[int(x) for x in input('Enter list of numbers delimited by comma: ').split(',')]\n",
    "print('First & Last number matching ? ',lst[0]==lst[-1])"
   ]
  },
  {
   "cell_type": "code",
   "execution_count": 7,
   "metadata": {},
   "outputs": [
    {
     "name": "stdout",
     "output_type": "stream",
     "text": [
      "Enter list of numbers delimited by comma: 2,34,5,6005,670,005,003\n",
      "First & Last number matching ?  False\n"
     ]
    }
   ],
   "source": [
    "lst=[int(x) for x in input('Enter list of numbers delimited by comma: ').split(',')]\n",
    "print('First & Last number matching ? ',lst[0]==lst[-1])"
   ]
  },
  {
   "cell_type": "markdown",
   "metadata": {},
   "source": [
    "# Question 6: Given a list of numbers, Iterate it and print only those numbers which are divisible of 5"
   ]
  },
  {
   "cell_type": "code",
   "execution_count": 8,
   "metadata": {},
   "outputs": [
    {
     "name": "stdout",
     "output_type": "stream",
     "text": [
      "[5, 15, 35, 445, 45]\n"
     ]
    }
   ],
   "source": [
    "lst=[5,12,15,35,445,6788,3,45,67,7]\n",
    "print(list(filter(lambda x : x%5==0 ,lst)))"
   ]
  },
  {
   "cell_type": "markdown",
   "metadata": {},
   "source": [
    "# Question 7: Return the total count of sub-string “Emma” appears in the given string"
   ]
  },
  {
   "cell_type": "code",
   "execution_count": 9,
   "metadata": {},
   "outputs": [
    {
     "name": "stdout",
     "output_type": "stream",
     "text": [
      "Count of Emma :  2\n"
     ]
    }
   ],
   "source": [
    "print('Count of Emma : ',('Emma Rose Emma').count('Emma'))"
   ]
  },
  {
   "cell_type": "markdown",
   "metadata": {},
   "source": [
    "# Question 8: Print the following pattern\n",
    "1<br> \n",
    "2 2 <br>\n",
    "3 3 3 <br>\n",
    "4 4 4 4 <br>\n",
    "5 5 5 5 5<br>"
   ]
  },
  {
   "cell_type": "code",
   "execution_count": 10,
   "metadata": {},
   "outputs": [
    {
     "name": "stdout",
     "output_type": "stream",
     "text": [
      "1\n",
      "22\n",
      "333\n",
      "4444\n",
      "55555\n"
     ]
    }
   ],
   "source": [
    "for i in range(1,6) : print(str(i)*i)"
   ]
  },
  {
   "cell_type": "markdown",
   "metadata": {},
   "source": [
    "# Question 9: Reverse a given number and return true if it is the same as the original number"
   ]
  },
  {
   "cell_type": "code",
   "execution_count": 11,
   "metadata": {},
   "outputs": [
    {
     "name": "stdout",
     "output_type": "stream",
     "text": [
      "Enter a number: 1234554321\n",
      "Number and reverse match:  True\n"
     ]
    }
   ],
   "source": [
    "st=input('Enter a number: ')\n",
    "print('Number and reverse match: ', st[::]==st[::-1])"
   ]
  },
  {
   "cell_type": "code",
   "execution_count": 12,
   "metadata": {},
   "outputs": [
    {
     "name": "stdout",
     "output_type": "stream",
     "text": [
      "Enter a number: 133556\n",
      "Number and reverse match:  False\n"
     ]
    }
   ],
   "source": [
    "st=input('Enter a number: ')\n",
    "print('Number and reverse match: ', st[::]==st[::-1])"
   ]
  },
  {
   "cell_type": "markdown",
   "metadata": {},
   "source": [
    "# Question 10: Given a two list of numbers create a new list such that new list should contain only odd numbers from the first list and even numbers from the second list\n",
    "First List  [10, 20, 23, 11, 17] <br>\n",
    "Second List  [13, 43, 24, 36, 12] <br>\n",
    "result List is [23, 11, 17, 24, 36, 12]"
   ]
  },
  {
   "cell_type": "code",
   "execution_count": 13,
   "metadata": {},
   "outputs": [
    {
     "name": "stdout",
     "output_type": "stream",
     "text": [
      "[23, 11, 17, 24, 36, 12]\n"
     ]
    }
   ],
   "source": [
    "Flst=[10, 20, 23, 11, 17] \n",
    "Slst=[13, 43, 24, 36, 12]\n",
    "print(list(filter(lambda x : x%2!=0,Flst)) + list(filter(lambda x : x%2==0,Slst)))"
   ]
  },
  {
   "cell_type": "markdown",
   "metadata": {},
   "source": [
    "# Question 11: Write a code to extract each digit from an integer, in the reverse order"
   ]
  },
  {
   "cell_type": "code",
   "execution_count": 14,
   "metadata": {},
   "outputs": [
    {
     "name": "stdout",
     "output_type": "stream",
     "text": [
      "Enter the number1234567890\n",
      "Reverse:  0987654321\n"
     ]
    }
   ],
   "source": [
    "print('Reverse: ', input('Enter the number')[::-1])"
   ]
  },
  {
   "cell_type": "markdown",
   "metadata": {},
   "source": [
    "# Question 12: Calculate income tax for the given income by adhering to the below rules\n",
    "Taxable Income\tRate (%) \n",
    "First $ 10,000\tzero% \n",
    "Next $10,000\t10%\n",
    "The remaining\t20%\n",
    "\n",
    "Expected Output:\n",
    "For example, suppose that the taxable income is $ 45000  then the income tax payable is $10000*0% + $ 10000*10%  + $25000*20% = $ 6000."
   ]
  },
  {
   "cell_type": "code",
   "execution_count": 15,
   "metadata": {},
   "outputs": [
    {
     "data": {
      "text/plain": [
       "6000.0"
      ]
     },
     "execution_count": 15,
     "metadata": {},
     "output_type": "execute_result"
    }
   ],
   "source": [
    "x=45000\n",
    "(lambda a : (x-20000)*20/100 + 1000  if x>20000 else 0) (x) + (lambda b : (x-10000)*10/100 if x<=20000 and x>10000 else 0) (x) "
   ]
  },
  {
   "cell_type": "markdown",
   "metadata": {},
   "source": [
    "# Question 13: Print multiplication table form 1 to 10"
   ]
  },
  {
   "cell_type": "code",
   "execution_count": 16,
   "metadata": {},
   "outputs": [
    {
     "name": "stdout",
     "output_type": "stream",
     "text": [
      "1 : [1, 2, 3, 4, 5, 6, 7, 8, 9, 10]\n",
      "2 : [2, 4, 6, 8, 10, 12, 14, 16, 18, 20]\n",
      "3 : [3, 6, 9, 12, 15, 18, 21, 24, 27, 30]\n",
      "4 : [4, 8, 12, 16, 20, 24, 28, 32, 36, 40]\n",
      "5 : [5, 10, 15, 20, 25, 30, 35, 40, 45, 50]\n",
      "6 : [6, 12, 18, 24, 30, 36, 42, 48, 54, 60]\n",
      "7 : [7, 14, 21, 28, 35, 42, 49, 56, 63, 70]\n",
      "8 : [8, 16, 24, 32, 40, 48, 56, 64, 72, 80]\n",
      "9 : [9, 18, 27, 36, 45, 54, 63, 72, 81, 90]\n",
      "10 : [10, 20, 30, 40, 50, 60, 70, 80, 90, 100]\n"
     ]
    }
   ],
   "source": [
    "for i in range(10): print(i+1,':', [(j+1)*(i+1) for j in range(10)])    "
   ]
  },
  {
   "cell_type": "markdown",
   "metadata": {},
   "source": [
    "# Question 14: Print downward Half-Pyramid Pattern with Star (asterisk)\n",
    "X X X X X<br>\n",
    "X X X X<br>\n",
    "X X X  <br>\n",
    "X X <br>\n",
    "X <br>"
   ]
  },
  {
   "cell_type": "code",
   "execution_count": 17,
   "metadata": {},
   "outputs": [
    {
     "name": "stdout",
     "output_type": "stream",
     "text": [
      "* * * * * \n",
      "* * * * \n",
      "* * * \n",
      "* * \n",
      "* \n"
     ]
    }
   ],
   "source": [
    "for i in range(5,0,-1): print('* '*i)"
   ]
  },
  {
   "cell_type": "markdown",
   "metadata": {},
   "source": [
    "# Question 15: Write a function called exponent(base, exp) that returns an int value of base raises to the power of exp."
   ]
  },
  {
   "cell_type": "code",
   "execution_count": 18,
   "metadata": {},
   "outputs": [
    {
     "name": "stdout",
     "output_type": "stream",
     "text": [
      "Enter Base:5\n",
      "Enter Exp:6\n"
     ]
    },
    {
     "data": {
      "text/plain": [
       "15625"
      ]
     },
     "execution_count": 18,
     "metadata": {},
     "output_type": "execute_result"
    }
   ],
   "source": [
    "def exponent(base,exp):\n",
    "    return base**exp\n",
    "\n",
    "exponent(int(input('Enter Base:')),int(input('Enter Exp:')))"
   ]
  }
 ],
 "metadata": {
  "kernelspec": {
   "display_name": "Python 3.7 (ML_env)",
   "language": "python",
   "name": "ml_env"
  },
  "language_info": {
   "codemirror_mode": {
    "name": "ipython",
    "version": 3
   },
   "file_extension": ".py",
   "mimetype": "text/x-python",
   "name": "python",
   "nbconvert_exporter": "python",
   "pygments_lexer": "ipython3",
   "version": "3.7.9"
  }
 },
 "nbformat": 4,
 "nbformat_minor": 4
}
